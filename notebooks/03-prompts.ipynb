{
 "cells": [
  {
   "cell_type": "markdown",
   "id": "be2e55b1",
   "metadata": {},
   "source": [
    "# Prompts Templating for OpenAI - LangChain"
   ]
  },
  {
   "cell_type": "markdown",
   "id": "2dd97153",
   "metadata": {},
   "source": [
    "Until 2021, to use an AI model for a specific use-case we would need to fine-tune the model weights themselves. That would require huge amounts of training data and significant compute to fine-tune any reasonably performing model.\n",
    "\n",
    "Instruction fine-tuned **L**arge **L**anguage **M**odels (LLMs) changed this fundamental rule of applying AI models to new use-cases. Rather than needing to either train a model from scratch or fine-tune an existing model, these new LLMs could adapt incredibly well to a new problem or use-case with nothing more than a prompt change.\n",
    "\n",
    "Prompts allow us to completely change the functionality of an AI pipeline. Through natural language we simply _tell_ our LLM what it needs to do, and with the right AI pipeline and prompting, it often works.\n",
    "\n",
    "LangChain naturally has many functionalities geared towards helping us build our prompts. We can build very dynamic prompting pipelines that modifying the structure and content of what we feed into our LLM based on essentially any parameter we would like. In this example, we'll explore the essentials to prompting in LangChain and apply this in a demo **R**etrieval **A**ugmented **G**eneration (RAG) pipeline.\n"
   ]
  },
  {
   "cell_type": "markdown",
   "id": "eb650f6e",
   "metadata": {},
   "source": [
    "## Basic Prompting"
   ]
  },
  {
   "cell_type": "markdown",
   "id": "323f0099",
   "metadata": {},
   "source": [
    "We'll start by looking at the various parts of our prompt. For RAG use-cases we'll typically have three core components however this is _very_ use-cases dependant and can vary significantly. Nonetheless, for RAG we will typically see:\n",
    "\n",
    "* **Rules for our LLM**: this part of the prompt sets up the behavior of our LLM, how it should approach responding to user queries, and simply providing as much information as possible about what we're wanting to do as possible. We typically place this within the _system prompt_ of an chat LLM.\n",
    "\n",
    "* **Context**: this part is RAG-specific. The context refers to some _external information_ that we may have retrieved from a web search, database query, or often a _vector database_. This external information is the **R**etrieval **A**ugmentation part of **RA**G. For chat LLMs we'll typically place this inside the chat messages between the assistant and user.\n",
    "\n",
    "* **Question**: this is the input from our user. In the vast majority of cases the question/query/user input will always be provided to the LLM (and typically through a _user message_). However, the format and location of this being provided often changes.\n",
    "\n",
    "* **Answer**: this is the answer from our assistant, again this is _very_ typical and we'd expect this with every use-case.\n",
    "\n",
    "The below is an example of how a RAG prompt may look:"
   ]
  },
  {
   "cell_type": "markdown",
   "id": "ebbba93d",
   "metadata": {},
   "source": [
    "```\n",
    "Answer the question based on the context below,                 }\n",
    "if you cannot answer the question using the                     }--->  (Rules) For Our Prompt\n",
    "provided information answer with \"I don't know\"                 }\n",
    "\n",
    "Context: Aurelio AI is an AI development studio                 }\n",
    "focused on the fields of Natural Language Processing (NLP)      }\n",
    "and information retrieval using modern tooling                  }--->   Context AI has\n",
    "such as Large Language Models (LLMs),                           }\n",
    "vector databases, and LangChain.                                }\n",
    "\n",
    "Question: Does Aurelio AI do anything related to LangChain?     }--->   User Question\n",
    "\n",
    "Answer:                                                         }--->   AI Answer\n",
    "```"
   ]
  },
  {
   "cell_type": "markdown",
   "id": "51efe09b",
   "metadata": {},
   "source": [
    "Here, we can see how the AI will appoach our question, as you can see we have a formulated response, if the context has the answer, then use the context to answer the question, if not, say I don't know, then we also have context and question which are being passed into this similarly to paramaters in a function."
   ]
  },
  {
   "cell_type": "code",
   "execution_count": 1,
   "id": "b8a69a2a",
   "metadata": {},
   "outputs": [],
   "source": [
    "prompt = \"\"\"\n",
    "Answer the user's query based on the context below.\n",
    "If you cannot answer the question using the\n",
    "provided information answer with \"I don't know\".\n",
    "\n",
    "Context: {context}\n",
    "\"\"\""
   ]
  },
  {
   "cell_type": "markdown",
   "id": "4743b1ae",
   "metadata": {},
   "source": [
    "LangChain uses a `ChatPromptTemplate` object to format the various prompt types into a single list which will be passed to our LLM:"
   ]
  },
  {
   "cell_type": "code",
   "execution_count": 2,
   "id": "912cf3bb",
   "metadata": {},
   "outputs": [],
   "source": [
    "from langchain.prompts import ChatPromptTemplate\n",
    "\n",
    "#passing the template to the langchain model\n",
    "prompt_template = ChatPromptTemplate.from_messages([\n",
    "    (\"system\" , prompt),\n",
    "    (\"user\" , \"{query}\"),\n",
    "])"
   ]
  },
  {
   "cell_type": "markdown",
   "id": "6e6fdc25",
   "metadata": {},
   "source": [
    "When we call the template it will expect us to provide two variables, the `context` and the `query`. Both of these variables are pulled from the strings we wrote, as LangChain interprets curly-bracket syntax (ie `{context}` and `{query}`) as indicating a dynamic variable that we expect to be inserted at query time. We can see that these variables have been picked up by our template object by viewing it's `input_variables` attribute:"
   ]
  },
  {
   "cell_type": "code",
   "execution_count": 3,
   "id": "157e74bf",
   "metadata": {},
   "outputs": [
    {
     "data": {
      "text/plain": [
       "['context', 'query']"
      ]
     },
     "execution_count": 3,
     "metadata": {},
     "output_type": "execute_result"
    }
   ],
   "source": [
    "prompt_template.input_variables"
   ]
  },
  {
   "cell_type": "markdown",
   "id": "813f91b1",
   "metadata": {},
   "source": [
    "We can also view the structure of the messages (currently _prompt templates_) that the `ChatPromptTemplate` will construct by viewing the `messages` attribute:"
   ]
  },
  {
   "cell_type": "code",
   "execution_count": 4,
   "id": "cb0ba37d",
   "metadata": {},
   "outputs": [
    {
     "data": {
      "text/plain": [
       "[SystemMessagePromptTemplate(prompt=PromptTemplate(input_variables=['context'], input_types={}, partial_variables={}, template='\\nAnswer the user\\'s query based on the context below.\\nIf you cannot answer the question using the\\nprovided information answer with \"I don\\'t know\".\\n\\nContext: {context}\\n'), additional_kwargs={}),\n",
       " HumanMessagePromptTemplate(prompt=PromptTemplate(input_variables=['query'], input_types={}, partial_variables={}, template='{query}'), additional_kwargs={})]"
      ]
     },
     "execution_count": 4,
     "metadata": {},
     "output_type": "execute_result"
    }
   ],
   "source": [
    "prompt_template.messages"
   ]
  },
  {
   "cell_type": "markdown",
   "id": "b030b332",
   "metadata": {},
   "source": [
    "From this, we can see that each tuple provided when using `ChatPromptTemplate.from_messages` becomes an individual prompt template itself. Within each of these tuples, the first value defines the _role_ of the message, which is typically `system`, `human`, or `ai`. Using these tuples is shorthand for the following, more explicit code:"
   ]
  },
  {
   "cell_type": "code",
   "execution_count": 11,
   "id": "2abc9bfa",
   "metadata": {},
   "outputs": [],
   "source": [
    "from langchain.prompts import (\n",
    "    SystemMessagePromptTemplate,\n",
    "    HumanMessagePromptTemplate\n",
    ")\n",
    "\n",
    "prompt_template = ChatPromptTemplate.from_messages([\n",
    "    SystemMessagePromptTemplate.from_template(prompt),\n",
    "    HumanMessagePromptTemplate.from_template(\"{query}\"),\n",
    "\n",
    "])"
   ]
  },
  {
   "cell_type": "markdown",
   "id": "2831df23",
   "metadata": {},
   "source": [
    "We can see the structure of this new chat prompt template is identical to our previous:"
   ]
  },
  {
   "cell_type": "code",
   "execution_count": 12,
   "id": "345cc57b",
   "metadata": {},
   "outputs": [
    {
     "data": {
      "text/plain": [
       "[SystemMessagePromptTemplate(prompt=PromptTemplate(input_variables=['context'], input_types={}, partial_variables={}, template='\\nAnswer the user\\'s query based on the context below.\\nIf you cannot answer the question using the\\nprovided information answer with \"I don\\'t know\".\\n\\nContext: {context}\\n'), additional_kwargs={}),\n",
       " HumanMessagePromptTemplate(prompt=PromptTemplate(input_variables=['query'], input_types={}, partial_variables={}, template='{query}'), additional_kwargs={})]"
      ]
     },
     "execution_count": 12,
     "metadata": {},
     "output_type": "execute_result"
    }
   ],
   "source": [
    "prompt_template.messages"
   ]
  },
  {
   "cell_type": "markdown",
   "id": "05b6fd21",
   "metadata": {},
   "source": [
    "### Invoking our LLM with Templates"
   ]
  },
  {
   "cell_type": "markdown",
   "id": "67ff9921",
   "metadata": {},
   "source": [
    "We've defined our prompt template, now let's define out LLM and run it with our template and a user query.\n",
    "\n",
    "We start by initializing our LLM. We will use Gemini `gemma-3n-e4b-it` model, if you need an API key you can get one from [Google AI Studio](https://aistudio.google.com/apikey)."
   ]
  },
  {
   "cell_type": "code",
   "execution_count": 13,
   "id": "1a0a24e9",
   "metadata": {},
   "outputs": [],
   "source": [
    "import os\n",
    "from constant import gemini_key\n",
    "\n",
    "os.environ[\"GOOGLE_API_KEY\"] = gemini_key\n",
    "\n",
    "from langchain_google_genai import ChatGoogleGenerativeAI\n",
    "\n",
    "gemini_model = \"gemini-1.5-flash\"  \n",
    "\n",
    "llm = ChatGoogleGenerativeAI(model=gemini_model, temperature=0.0)     "
   ]
  },
  {
   "cell_type": "markdown",
   "id": "74ed4696",
   "metadata": {},
   "source": [
    "Here we define our LLM and _because_ we're using it for a question-answer use-case we want it's answer to be as grounded in reality as possible. To do that, we ofcourse prompt it to not make up any information via the `If you cannot answer the question using the provided information answer with \"I don't know\"` line, but we _also_ use the model's `temperature` setting.\n",
    "\n",
    "The `temperature` parameter controls the randomness of the LLM's output. A temperature of `0.0` makes an LLM's output more determinstic which _in theory_ should lead to a lower likelihood of hallucination.\n",
    "\n",
    "Now, the question here may be, _why would we ever not use `temperature=0.0`?_ The answer to that is that sometimes a little bit of randomness can useful. Randomness tends to translate to text that feels more human and creative, so if we'd like an LLM to help us write an article or even a poem, that lack of determinism becomes a feature rather than a bug.\n",
    "\n",
    "For now, we'll stick with our more deterministic LLM. We'll setup the pipeline to consume two variables when our LLM pipeline is called, `query` and `context`, we'll feed them into our chat prompt template, and then invoke our LLM with our formatted messages.\n",
    "\n",
    "Although that sounds complicated, all we're doing is connecting our `prompt_template` and `llm`. We do this with **L**ang**C**hain **E**xpression **L**anguage (LCEL), which uses the `|` operator to connect our each component."
   ]
  },
  {
   "cell_type": "code",
   "execution_count": 14,
   "id": "b2f93949",
   "metadata": {},
   "outputs": [],
   "source": [
    "pipeline = (\n",
    "    {\n",
    "        \"query\" : lambda x: x[\"query\"],\n",
    "        \"context\" : lambda x: x[\"context\"]\n",
    "    }\n",
    "    | prompt_template\n",
    "    | llm\n",
    ")\n"
   ]
  },
  {
   "cell_type": "markdown",
   "id": "7eb83458",
   "metadata": {},
   "source": [
    "Now let's define a `query` and some relevant `context` and invoke our pipeline."
   ]
  },
  {
   "cell_type": "code",
   "execution_count": 15,
   "id": "a6eed7f1",
   "metadata": {},
   "outputs": [],
   "source": [
    "context = \"\"\"Aurelio AI is an AI company developing tooling for AI\n",
    "engineers. Their focus is on language AI with the team having strong\n",
    "expertise in building AI agents and a strong background in\n",
    "information retrieval.\n",
    "\n",
    "The company is behind several open source frameworks, most notably\n",
    "Semantic Router and Semantic Chunkers. They also have an AI\n",
    "Platform providing engineers with tooling to help them build with\n",
    "AI. Finally, the team also provides development services to other\n",
    "organizations to help them bring their AI tech to market.\n",
    "\n",
    "Aurelio AI became LangChain Experts in September 2024 after a long\n",
    "track record of delivering AI solutions built with the LangChain\n",
    "ecosystem.\"\"\"\n",
    "\n",
    "query = \"what does Aurelio AI do?\""
   ]
  },
  {
   "cell_type": "code",
   "execution_count": 16,
   "id": "9fcfeff4",
   "metadata": {},
   "outputs": [
    {
     "data": {
      "text/plain": [
       "AIMessage(content='Aurelio AI is an AI company that develops tooling for AI engineers, focusing on language AI.  They have expertise in building AI agents and information retrieval, and offer open-source frameworks (Semantic Router and Semantic Chunkers), an AI Platform, and development services to help organizations bring their AI tech to market.  They are also LangChain Experts.', additional_kwargs={}, response_metadata={'prompt_feedback': {'block_reason': 0, 'safety_ratings': []}, 'finish_reason': 'STOP', 'model_name': 'gemini-1.5-flash', 'safety_ratings': []}, id='run--9571d2a6-2cb0-4472-883b-728a33cb8832-0', usage_metadata={'input_tokens': 180, 'output_tokens': 71, 'total_tokens': 251, 'input_token_details': {'cache_read': 0}})"
      ]
     },
     "execution_count": 16,
     "metadata": {},
     "output_type": "execute_result"
    }
   ],
   "source": [
    "pipeline.invoke({\"query\": query, \"context\": context})"
   ]
  },
  {
   "cell_type": "markdown",
   "id": "52259654",
   "metadata": {},
   "source": [
    "Our LLM pipeline is able to consume the information from the `context` and use it to answer the user's `query`. Ofcourse, we would not usually be feeding in both a question and an answer into an LLM manually. Typically, the `context` would be retrieved from a vector database, via web search, or from elsewhere. We will cover this use-case in full and build a functional RAG pipeline in a future chapter."
   ]
  },
  {
   "cell_type": "markdown",
   "id": "ab4e03f1",
   "metadata": {},
   "source": [
    "## Few Shot Prompting"
   ]
  },
  {
   "cell_type": "markdown",
   "id": "58c0de44",
   "metadata": {},
   "source": [
    "Many **S**tate-**o**f-**t**he-**A**rt (SotA) LLMs are incredible at instruction following. Meaning that it requires much less effort to get the intended output or behavior from these models than is the case for older LLMs and smaller LLMs.\n",
    "\n",
    "Before creating an example let's first see how to use LangChain's few shot prompting objects. We will provide multiple examples and we'll feed them in as sequential human and ai messages so we setup the template like this:"
   ]
  },
  {
   "cell_type": "code",
   "execution_count": 17,
   "id": "0bc3f6f4",
   "metadata": {},
   "outputs": [],
   "source": [
    "example_prompt = ChatPromptTemplate.from_messages([\n",
    "    (\"human\", \"{input}\"),\n",
    "    (\"ai\", \"{output}\")\n",
    "])"
   ]
  },
  {
   "cell_type": "markdown",
   "id": "60356325",
   "metadata": {},
   "source": [
    "Then we define a list of examples with dictionaries containing the correct `input` and `output` keys."
   ]
  },
  {
   "cell_type": "code",
   "execution_count": 18,
   "id": "2bf8c5c8",
   "metadata": {},
   "outputs": [],
   "source": [
    "examples = [\n",
    "    {\"input\": \"Here is query #1\", \"output\": \"Here is the answer #1\"},\n",
    "    {\"input\": \"Here is query #2\", \"output\": \"Here is the answer #2\"},\n",
    "    {\"input\": \"Here is query #3\", \"output\": \"Here is the answer #3\"},\n",
    "]"
   ]
  },
  {
   "cell_type": "markdown",
   "id": "e0472a9f",
   "metadata": {},
   "source": [
    "We then feed both of these into our `FewShotChatMessagePromptTemplate` object:"
   ]
  },
  {
   "cell_type": "code",
   "execution_count": 19,
   "id": "80af4d16",
   "metadata": {},
   "outputs": [
    {
     "name": "stdout",
     "output_type": "stream",
     "text": [
      "Human: Here is query #1\n",
      "AI: Here is the answer #1\n",
      "Human: Here is query #2\n",
      "AI: Here is the answer #2\n",
      "Human: Here is query #3\n",
      "AI: Here is the answer #3\n"
     ]
    }
   ],
   "source": [
    "from langchain.prompts import FewShotChatMessagePromptTemplate\n",
    "\n",
    "few_shot_prompt = FewShotChatMessagePromptTemplate(\n",
    "    example_prompt=example_prompt,\n",
    "    examples=examples,\n",
    ")\n",
    "\n",
    "#here is the formated prompt\n",
    "print(few_shot_prompt.format())"
   ]
  },
  {
   "cell_type": "markdown",
   "id": "6df5e327",
   "metadata": {},
   "source": [
    "Using this we can provide different sets of `examples` or even different individual `example_prompt` templates to the `FewShotChatMessagePromptTemplate` object to build our prompt structure. Let's try an real example where we might use few-shot prompting.\n",
    "\n",
    "### Few-Shot Example"
   ]
  },
  {
   "cell_type": "markdown",
   "id": "6d247452",
   "metadata": {},
   "source": [
    "Using a tiny LLM limits it's ability, so when asking for specific behaviors or structured outputs it can struggle. For example, we'll ask the LLM to summarize the key points about Aurelio AI using markdown and bullet points. Let's see what happens."
   ]
  },
  {
   "cell_type": "code",
   "execution_count": 20,
   "id": "a26328a8",
   "metadata": {},
   "outputs": [],
   "source": [
    "new_system_prompt = \"\"\"\n",
    "Answer the user's query based on the context below.\n",
    "If you cannot answer the question using the\n",
    "provided information answer with \"I don't know\".\n",
    "\n",
    "Always answer in markdown format. When doing so please\n",
    "provide headers, short summaries, follow with bullet\n",
    "points, then conclude.\n",
    "\n",
    "Context: {context}\n",
    "\"\"\""
   ]
  },
  {
   "cell_type": "code",
   "execution_count": 21,
   "id": "842fc2fd",
   "metadata": {},
   "outputs": [
    {
     "name": "stdout",
     "output_type": "stream",
     "text": [
      "# Aurelio AI: An Overview\n",
      "\n",
      "Aurelio AI is an artificial intelligence company specializing in language AI and building tools for AI engineers.\n",
      "\n",
      "## Key Activities:\n",
      "\n",
      "*   **Develops AI tooling:**  Creates frameworks and platforms to assist in the development of AI applications.\n",
      "*   **Open-source contributions:**  Maintains several open-source frameworks, including Semantic Router and Semantic Chunkers.\n",
      "*   **Offers an AI platform:** Provides engineers with tools to build AI applications.\n",
      "*   **Delivers development services:**  Assists other organizations in bringing their AI technologies to market.\n",
      "*   **LangChain Expertise:** Recognized as LangChain Experts (since September 2024) due to extensive experience building AI solutions within the LangChain ecosystem.\n",
      "\n",
      "## Focus Areas:\n",
      "\n",
      "*   **Language AI:**  Specializes in natural language processing and related technologies.\n",
      "*   **AI Agents:** Possesses strong expertise in building and deploying AI agents.\n",
      "*   **Information Retrieval:**  Has a strong background in information retrieval techniques.\n",
      "\n",
      "\n",
      "## Conclusion\n",
      "\n",
      "Aurelio AI is a multifaceted AI company offering a range of services and tools focused on language AI and empowering AI engineers.  Their expertise in LangChain and open-source contributions solidify their position in the AI landscape.\n"
     ]
    }
   ],
   "source": [
    "prompt_template.messages[0].prompt.template = new_system_prompt\n",
    "\n",
    "out = pipeline.invoke({\"query\" : query , \"context\" : context}).content\n",
    "\n",
    "print(out)"
   ]
  },
  {
   "cell_type": "markdown",
   "id": "c18ceb8f",
   "metadata": {},
   "source": [
    "We can display our markdown nicely with `IPython` like so:"
   ]
  },
  {
   "cell_type": "code",
   "execution_count": 22,
   "id": "e88945c1",
   "metadata": {},
   "outputs": [
    {
     "data": {
      "text/markdown": [
       "# Aurelio AI: An Overview\n",
       "\n",
       "Aurelio AI is an artificial intelligence company specializing in language AI and building tools for AI engineers.\n",
       "\n",
       "## Key Activities:\n",
       "\n",
       "*   **Develops AI tooling:**  Creates frameworks and platforms to assist in the development of AI applications.\n",
       "*   **Open-source contributions:**  Maintains several open-source frameworks, including Semantic Router and Semantic Chunkers.\n",
       "*   **Offers an AI platform:** Provides engineers with tools to build AI applications.\n",
       "*   **Delivers development services:**  Assists other organizations in bringing their AI technologies to market.\n",
       "*   **LangChain Expertise:** Recognized as LangChain Experts (since September 2024) due to extensive experience building AI solutions within the LangChain ecosystem.\n",
       "\n",
       "## Focus Areas:\n",
       "\n",
       "*   **Language AI:**  Specializes in natural language processing and related technologies.\n",
       "*   **AI Agents:** Possesses strong expertise in building and deploying AI agents.\n",
       "*   **Information Retrieval:**  Has a strong background in information retrieval techniques.\n",
       "\n",
       "\n",
       "## Conclusion\n",
       "\n",
       "Aurelio AI is a multifaceted AI company offering a range of services and tools focused on language AI and empowering AI engineers.  Their expertise in LangChain and open-source contributions solidify their position in the AI landscape."
      ],
      "text/plain": [
       "<IPython.core.display.Markdown object>"
      ]
     },
     "metadata": {},
     "output_type": "display_data"
    }
   ],
   "source": [
    "from IPython.display import display, Markdown\n",
    "\n",
    "display(Markdown(out))"
   ]
  },
  {
   "cell_type": "markdown",
   "id": "65a9397e",
   "metadata": {},
   "source": [
    "This is not bad, but also not quite the format we wanted. We could try improving our initial prompting instructions, but when this doesn't work we can move on to our few-shot prompting. We want to build something like this:"
   ]
  },
  {
   "cell_type": "markdown",
   "id": "eff64e75",
   "metadata": {},
   "source": [
    "```\n",
    "Answer the user's query based on the context below,                 }\n",
    "if you cannot answer the question using the                         }\n",
    "provided information answer with \"I don't know\"                     }\n",
    "                                                                    }--->  (Rules)\n",
    "Always answer in markdown format. When doing so please              }\n",
    "provide headers, short summaries, follow with bullet                }\n",
    "points, then conclude. Here are some examples:                      }\n",
    "\n",
    "\n",
    "User: Can you explain gravity?                                      }\n",
    "AI: ## Gravity                                                      }\n",
    "                                                                    }\n",
    "Gravity is one of the fundamental forces in the universe.           }\n",
    "                                                                    }\n",
    "### Discovery                                                       }--->  (Example 1)\n",
    "                                                                    }\n",
    "* Gravity was first discovered by...                                }\n",
    "                                                                    }\n",
    "**To conclude**, Gravity is a fascinating topic and has been...     }\n",
    "                                                                    }\n",
    "\n",
    "User: What is the capital of France?                                }\n",
    "AI: ## France                                                       }\n",
    "                                                                    }\n",
    "The capital of France is Paris.                                     }\n",
    "                                                                    }--->  (Example 2)\n",
    "### Origins                                                         }\n",
    "                                                                    }\n",
    "* The name Paris comes from the...                                  }\n",
    "                                                                    }\n",
    "**To conclude**, Paris is highly regarded as one of the...          }\n",
    "\n",
    "Context: {context}                                                  }--->  (Context)\n",
    "```"
   ]
  },
  {
   "cell_type": "markdown",
   "id": "4e77d620",
   "metadata": {},
   "source": [
    "We have already defined our `example_prompt` so now we just change our `examples` to use some examples of a user asking a question and the LLM answering in the exact markdown format we need."
   ]
  },
  {
   "cell_type": "code",
   "execution_count": 23,
   "id": "fd1c217d",
   "metadata": {},
   "outputs": [],
   "source": [
    "examples = [\n",
    "    {\n",
    "        \"input\": \"Can you explain gravity?\",\n",
    "        \"output\": (\n",
    "            \"## Gravity\\n\\n\"\n",
    "            \"Gravity is one of the fundamental forces in the universe.\\n\\n\"\n",
    "            \"### Discovery\\n\\n\"\n",
    "            \"* Gravity was first discovered by Sir Isaac Newton in the late 17th century.\\n\"\n",
    "            \"* It was said that Newton theorized about gravity after seeing an apple fall from a tree.\\n\\n\"\n",
    "            \"### In General Relativity\\n\\n\"\n",
    "            \"* Gravity is described as the curvature of spacetime.\\n\"\n",
    "            \"* The more massive an object is, the more it curves spacetime.\\n\"\n",
    "            \"* This curvature is what causes objects to fall towards each other.\\n\\n\"\n",
    "            \"### Gravitons\\n\\n\"\n",
    "            \"* Gravitons are hypothetical particles that mediate the force of gravity.\\n\"\n",
    "            \"* They have not yet been detected.\\n\\n\"\n",
    "            \"**To conclude**, Gravity is a fascinating topic and has been studied extensively since the time of Newton.\\n\\n\"\n",
    "        )\n",
    "    },\n",
    "    {\n",
    "        \"input\": \"What is the capital of France?\",\n",
    "        \"output\": (\n",
    "            \"## France\\n\\n\"\n",
    "            \"The capital of France is Paris.\\n\\n\"\n",
    "            \"### Origins\\n\\n\"\n",
    "            \"* The name Paris comes from the Latin word \\\"Parisini\\\" which referred to a Celtic people living in the area.\\n\"\n",
    "            \"* The Romans named the city Lutetia, which means \\\"the place where the river turns\\\".\\n\"\n",
    "            \"* The city was renamed Paris in the 3rd century BC by the Celtic-speaking Parisii tribe.\\n\\n\"\n",
    "            \"**To conclude**, Paris is highly regarded as one of the most beautiful cities in the world and is one of the world's greatest cultural and economic centres.\\n\\n\"\n",
    "        )\n",
    "    }\n",
    "]"
   ]
  },
  {
   "cell_type": "markdown",
   "id": "88e46fc2",
   "metadata": {},
   "source": [
    "We feed these into our `FewShotChatMessagePromptTemplate` object:"
   ]
  },
  {
   "cell_type": "code",
   "execution_count": 24,
   "id": "0edc5931",
   "metadata": {},
   "outputs": [],
   "source": [
    "few_shot_prompt = FewShotChatMessagePromptTemplate(\n",
    "    example_prompt=example_prompt,\n",
    "    examples=examples,\n",
    ")"
   ]
  },
  {
   "cell_type": "markdown",
   "id": "1e309104",
   "metadata": {},
   "source": [
    "Our formatted prompt now looks like this:"
   ]
  },
  {
   "cell_type": "code",
   "execution_count": 25,
   "id": "d416fb40",
   "metadata": {},
   "outputs": [
    {
     "data": {
      "text/markdown": [
       "Human: Can you explain gravity?\n",
       "AI: ## Gravity\n",
       "\n",
       "Gravity is one of the fundamental forces in the universe.\n",
       "\n",
       "### Discovery\n",
       "\n",
       "* Gravity was first discovered by Sir Isaac Newton in the late 17th century.\n",
       "* It was said that Newton theorized about gravity after seeing an apple fall from a tree.\n",
       "\n",
       "### In General Relativity\n",
       "\n",
       "* Gravity is described as the curvature of spacetime.\n",
       "* The more massive an object is, the more it curves spacetime.\n",
       "* This curvature is what causes objects to fall towards each other.\n",
       "\n",
       "### Gravitons\n",
       "\n",
       "* Gravitons are hypothetical particles that mediate the force of gravity.\n",
       "* They have not yet been detected.\n",
       "\n",
       "**To conclude**, Gravity is a fascinating topic and has been studied extensively since the time of Newton.\n",
       "\n",
       "\n",
       "Human: What is the capital of France?\n",
       "AI: ## France\n",
       "\n",
       "The capital of France is Paris.\n",
       "\n",
       "### Origins\n",
       "\n",
       "* The name Paris comes from the Latin word \"Parisini\" which referred to a Celtic people living in the area.\n",
       "* The Romans named the city Lutetia, which means \"the place where the river turns\".\n",
       "* The city was renamed Paris in the 3rd century BC by the Celtic-speaking Parisii tribe.\n",
       "\n",
       "**To conclude**, Paris is highly regarded as one of the most beautiful cities in the world and is one of the world's greatest cultural and economic centres.\n",
       "\n"
      ],
      "text/plain": [
       "<IPython.core.display.Markdown object>"
      ]
     },
     "metadata": {},
     "output_type": "display_data"
    }
   ],
   "source": [
    "out = few_shot_prompt.format()\n",
    "\n",
    "display(Markdown(out))"
   ]
  },
  {
   "cell_type": "markdown",
   "id": "5f5023f1",
   "metadata": {},
   "source": [
    "We then pull all of this together with our system prompt and final user query to create our final prompt and feed it into our LLM."
   ]
  },
  {
   "cell_type": "code",
   "execution_count": 26,
   "id": "6ef91acc",
   "metadata": {},
   "outputs": [
    {
     "data": {
      "text/plain": [
       "FewShotChatMessagePromptTemplate(examples=[{'input': 'Can you explain gravity?', 'output': '## Gravity\\n\\nGravity is one of the fundamental forces in the universe.\\n\\n### Discovery\\n\\n* Gravity was first discovered by Sir Isaac Newton in the late 17th century.\\n* It was said that Newton theorized about gravity after seeing an apple fall from a tree.\\n\\n### In General Relativity\\n\\n* Gravity is described as the curvature of spacetime.\\n* The more massive an object is, the more it curves spacetime.\\n* This curvature is what causes objects to fall towards each other.\\n\\n### Gravitons\\n\\n* Gravitons are hypothetical particles that mediate the force of gravity.\\n* They have not yet been detected.\\n\\n**To conclude**, Gravity is a fascinating topic and has been studied extensively since the time of Newton.\\n\\n'}, {'input': 'What is the capital of France?', 'output': '## France\\n\\nThe capital of France is Paris.\\n\\n### Origins\\n\\n* The name Paris comes from the Latin word \"Parisini\" which referred to a Celtic people living in the area.\\n* The Romans named the city Lutetia, which means \"the place where the river turns\".\\n* The city was renamed Paris in the 3rd century BC by the Celtic-speaking Parisii tribe.\\n\\n**To conclude**, Paris is highly regarded as one of the most beautiful cities in the world and is one of the world\\'s greatest cultural and economic centres.\\n\\n'}], input_variables=[], input_types={}, partial_variables={}, example_prompt=ChatPromptTemplate(input_variables=['input', 'output'], input_types={}, partial_variables={}, messages=[HumanMessagePromptTemplate(prompt=PromptTemplate(input_variables=['input'], input_types={}, partial_variables={}, template='{input}'), additional_kwargs={}), AIMessagePromptTemplate(prompt=PromptTemplate(input_variables=['output'], input_types={}, partial_variables={}, template='{output}'), additional_kwargs={})]))"
      ]
     },
     "execution_count": 26,
     "metadata": {},
     "output_type": "execute_result"
    }
   ],
   "source": [
    "few_shot_prompt"
   ]
  },
  {
   "cell_type": "code",
   "execution_count": 27,
   "id": "48bcfacc",
   "metadata": {},
   "outputs": [],
   "source": [
    "prompt_template = ChatPromptTemplate.from_messages([\n",
    "    (\"system\" , new_system_prompt),\n",
    "    few_shot_prompt,\n",
    "    (\"user\" , \"{query}\")\n",
    "])"
   ]
  },
  {
   "cell_type": "markdown",
   "id": "fb58d676",
   "metadata": {},
   "source": [
    "Now feed this back into our pipeline:"
   ]
  },
  {
   "cell_type": "code",
   "execution_count": 28,
   "id": "82606e37",
   "metadata": {},
   "outputs": [
    {
     "data": {
      "text/markdown": [
       "## Aurelio AI: Building the Future of AI\n",
       "\n",
       "Aurelio AI is an artificial intelligence company specializing in developing tools for AI engineers.  Their core expertise lies in language AI, particularly in building AI agents and leveraging advanced information retrieval techniques.\n",
       "\n",
       "### Key Activities:\n",
       "\n",
       "* **Open-Source Frameworks:**  They've created several open-source frameworks, most notably Semantic Router and Semantic Chunkers, contributing to the broader AI community.\n",
       "* **AI Platform:** Aurelio AI offers an AI platform providing engineers with the tools they need to build AI applications more efficiently.\n",
       "* **Development Services:** The company provides development services to other organizations, assisting them in bringing their AI technologies to market.\n",
       "* **LangChain Expertise:**  Recognized as LangChain Experts since September 2024, they possess a strong track record of delivering successful AI solutions using the LangChain ecosystem.\n",
       "\n",
       "**In short,** Aurelio AI empowers AI engineers with cutting-edge tools and expertise to build and deploy advanced language AI applications."
      ],
      "text/plain": [
       "<IPython.core.display.Markdown object>"
      ]
     },
     "metadata": {},
     "output_type": "display_data"
    }
   ],
   "source": [
    "pipeline = prompt_template | llm\n",
    "out = pipeline.invoke({\"query\" : query , \"context\" : context}).content\n",
    "display(Markdown(out))"
   ]
  },
  {
   "cell_type": "markdown",
   "id": "676a8541",
   "metadata": {},
   "source": [
    "----------------------------------------------------------------------------------\n",
    "\n",
    "We can see that by adding a few examples to our prompt, ie _few-shot prompting_, we can get much more control over the exact structure of our LLM response. As the size of our LLMs increases, the ability of them to follow instructions becomes much greater and they tend to require less explicit prompting as we have shown here. However, even for SotA models like `gpt-4o` few-shot prompting is still a valid technique that can be used if the LLM is struggling to follow our intended instructions.( We use here gemini\n",
    ")"
   ]
  },
  {
   "cell_type": "markdown",
   "id": "838ec1c2",
   "metadata": {},
   "source": [
    "## Chain of Thought Prompting"
   ]
  },
  {
   "cell_type": "markdown",
   "id": "33f39b2e",
   "metadata": {},
   "source": [
    "We'll take a look at one more commonly used prompting technique called _chain of thought_ (CoT). CoT is a technique that encourages the LLM to think through the problem step by step before providing an answer. The idea being that by breaking down the problem into smaller steps, the LLM is more likely to arrive at the correct answer and we are less likely to see hallucinations.\n",
    "\n",
    "To implement CoT we don't need any specific LangChain objects, instead we are simply modifying how we instruct our LLM within the system prompt. We will ask the LLM to list the problems that need to be solved, to solve each problem individually, and then to arrive at the final answer.\n",
    "\n",
    "Let's first test our LLM _without_ CoT prompting."
   ]
  },
  {
   "cell_type": "code",
   "execution_count": 29,
   "id": "99ab75e4",
   "metadata": {},
   "outputs": [],
   "source": [
    "no_cot_system_prompt = \"\"\"\n",
    "Be a helpful assistant and answer the user's question.\n",
    "\n",
    "You MUST answer the question directly without any other\n",
    "text or explanation.\n",
    "\"\"\"\n",
    "\n",
    "no_cot_prompt_template = ChatPromptTemplate.from_messages([\n",
    "    (\"system\", no_cot_system_prompt),\n",
    "    (\"user\", \"{query}\"),\n",
    "])"
   ]
  },
  {
   "cell_type": "markdown",
   "id": "81fde9dc",
   "metadata": {},
   "source": [
    "Nowadays most LLMs are trained to use CoT prompting by default, so we actually need to instruct it not to do so for this example which is why we added `\"You MUST answer the question directly without any other text or explanation.\"` to our system prompt."
   ]
  },
  {
   "cell_type": "code",
   "execution_count": 30,
   "id": "ff4da388",
   "metadata": {},
   "outputs": [
    {
     "name": "stdout",
     "output_type": "stream",
     "text": [
      "1393\n"
     ]
    }
   ],
   "source": [
    "query = (\n",
    "    \"How many keystrokes are needed to type the numbers from 1 to 500?\"\n",
    ")\n",
    "\n",
    "no_cot_pipeline = no_cot_prompt_template | llm\n",
    "no_cot_result = no_cot_pipeline.invoke({\"query\": query}).content\n",
    "print(no_cot_result)"
   ]
  },
  {
   "cell_type": "markdown",
   "id": "ad96dbe6",
   "metadata": {},
   "source": [
    "The actual answer is `1392`, but the LLM _without_ CoT just hallucinates and gives us a guess. Now, we can add explicit CoT prompting to our system prompt to see if we can get a better result."
   ]
  },
  {
   "cell_type": "code",
   "execution_count": 31,
   "id": "649920b5",
   "metadata": {},
   "outputs": [],
   "source": [
    "# Define the chain-of-thought prompt template\n",
    "cot_system_prompt = \"\"\"\n",
    "Be a helpful assistant and answer the user's question.\n",
    "\n",
    "To answer the question, you must:\n",
    "\n",
    "- List systematically and in precise detail all\n",
    "  subproblems that need to be solved to answer the\n",
    "  question.\n",
    "- Solve each sub problem INDIVIDUALLY and in sequence.\n",
    "- Finally, use everything you have worked through to\n",
    "  provide the final answer.\n",
    "\"\"\"\n",
    "\n",
    "cot_prompt_template = ChatPromptTemplate.from_messages([\n",
    "    (\"system\", cot_system_prompt),\n",
    "    (\"user\", \"{query}\"),\n",
    "])\n",
    "\n",
    "cot_pipeline = cot_prompt_template | llm"
   ]
  },
  {
   "cell_type": "code",
   "execution_count": 32,
   "id": "cad1e855",
   "metadata": {},
   "outputs": [
    {
     "data": {
      "text/markdown": [
       "To determine the total number of keystrokes needed to type the numbers from 1 to 500, we need to solve the following subproblems:\n",
       "\n",
       "**Subproblem 1: Count keystrokes for numbers with one digit (1-9)**\n",
       "\n",
       "* There are 9 one-digit numbers.\n",
       "* Each one-digit number requires 1 keystroke.\n",
       "* Total keystrokes for one-digit numbers: 9 * 1 = 9 keystrokes\n",
       "\n",
       "**Subproblem 2: Count keystrokes for numbers with two digits (10-99)**\n",
       "\n",
       "* There are 90 two-digit numbers (99 - 10 + 1 = 90).\n",
       "* Each two-digit number requires 2 keystrokes.\n",
       "* Total keystrokes for two-digit numbers: 90 * 2 = 180 keystrokes\n",
       "\n",
       "**Subproblem 3: Count keystrokes for numbers with three digits (100-500)**\n",
       "\n",
       "* There are 401 three-digit numbers (500 - 100 + 1 = 401).\n",
       "* Each three-digit number requires 3 keystrokes.\n",
       "* Total keystrokes for three-digit numbers: 401 * 3 = 1203 keystrokes\n",
       "\n",
       "\n",
       "**Final Calculation:**\n",
       "\n",
       "To get the total number of keystrokes, we sum the keystrokes from each subproblem:\n",
       "\n",
       "Total keystrokes = Keystrokes (one-digit) + Keystrokes (two-digit) + Keystrokes (three-digit) \n",
       "Total keystrokes = 9 + 180 + 1203 = 1392 keystrokes\n",
       "\n",
       "Therefore, 1392 keystrokes are needed to type the numbers from 1 to 500."
      ],
      "text/plain": [
       "<IPython.core.display.Markdown object>"
      ]
     },
     "metadata": {},
     "output_type": "display_data"
    }
   ],
   "source": [
    "cot_result = cot_pipeline.invoke({\"query\": query}).content\n",
    "display(Markdown(cot_result))"
   ]
  },
  {
   "cell_type": "markdown",
   "id": "a338254c",
   "metadata": {},
   "source": [
    "Now we get a much better result! Our LLM provides us with a final answer of `1392` which is correct. Finally, as mentioned most LLMs are now trained to use CoT prompting by default. So let's see what happens if we don't explicitly tell the LLM to use CoT."
   ]
  },
  {
   "cell_type": "code",
   "execution_count": 33,
   "id": "ed410dd4",
   "metadata": {},
   "outputs": [],
   "source": [
    "system_prompt = \"\"\"\n",
    "Be a helpful assistant and answer the user's question.\n",
    "\"\"\"\n",
    "\n",
    "prompt_template = ChatPromptTemplate.from_messages([\n",
    "    (\"system\", system_prompt),\n",
    "    (\"user\", \"{query}\"),\n",
    "])\n",
    "\n",
    "pipeline = prompt_template | llm"
   ]
  },
  {
   "cell_type": "code",
   "execution_count": 34,
   "id": "d020dbf6",
   "metadata": {},
   "outputs": [
    {
     "data": {
      "text/markdown": [
       "Let's break this down:\n",
       "\n",
       "* **Numbers 1-9:**  Each number requires one keystroke, totaling 9 keystrokes.\n",
       "* **Numbers 10-99:** Each number requires two keystrokes, and there are 90 numbers (99 - 10 + 1 = 90), totaling 180 keystrokes.\n",
       "* **Numbers 100-499:** Each number requires three keystrokes, and there are 400 numbers (499 - 100 + 1 = 400), totaling 1200 keystrokes.\n",
       "* **Number 500:** This number requires three keystrokes.\n",
       "\n",
       "Adding these together: 9 + 180 + 1200 + 3 = $\\boxed{1392}$ keystrokes."
      ],
      "text/plain": [
       "<IPython.core.display.Markdown object>"
      ]
     },
     "metadata": {},
     "output_type": "display_data"
    }
   ],
   "source": [
    "result = pipeline.invoke({\"query\": query}).content\n",
    "display(Markdown(result))"
   ]
  },
  {
   "cell_type": "markdown",
   "id": "d2a44569",
   "metadata": {},
   "source": [
    "We almost get the _exact_ same result. The formatting isn't quite as nice but the CoT behavior is clearly there, and the LLM produces the correct final answer!\n",
    "\n",
    "CoT is useful not only for simple question-answering like this, but is also a fundamental component of many agentic systems which will often use CoT steps paired with tool use to solve very complex problems."
   ]
  }
 ],
 "metadata": {
  "kernelspec": {
   "display_name": "langChain-v0.3 (3.12.7)",
   "language": "python",
   "name": "python3"
  },
  "language_info": {
   "codemirror_mode": {
    "name": "ipython",
    "version": 3
   },
   "file_extension": ".py",
   "mimetype": "text/x-python",
   "name": "python",
   "nbconvert_exporter": "python",
   "pygments_lexer": "ipython3",
   "version": "3.12.7"
  }
 },
 "nbformat": 4,
 "nbformat_minor": 5
}
